{
 "cells": [
  {
   "cell_type": "code",
   "execution_count": 5,
   "metadata": {},
   "outputs": [
    {
     "name": "stdout",
     "output_type": "stream",
     "text": [
      "['boston', 'concrete', 'energy', 'kin8nm', 'naval', 'power', 'protein', 'winered', 'winewhite', 'yacht']\n"
     ]
    }
   ],
   "source": [
    "from tinydb import TinyDB, where\n",
    "from matplotlib import pyplot\n",
    "\n",
    "import sys\n",
    "sys.path.append('../tasks')\n",
    "from data import ALL_REGRESSION_DATATSETS\n",
    "regression_datasets = list(ALL_REGRESSION_DATATSETS.keys())\n",
    "regression_datasets.sort()\n"
   ]
  },
  {
   "cell_type": "code",
   "execution_count": 14,
   "metadata": {},
   "outputs": [
    {
     "name": "stdout",
     "output_type": "stream",
     "text": [
      "boston\n",
      "[-0.5445419727270256, -0.5445419727270256, -0.5445419727270256, -0.5445419727270256, -0.5445419727270256]\n",
      "concrete\n",
      "[-0.9650463081954531, -0.9650463081954531, -0.9650463081954531, -0.9650463081954531, -0.9650463081954531]\n",
      "energy\n",
      "[-0.06190911002124293, -0.06190911002124293, -0.06190910333798008, -0.06190911002124293, -0.06190910333798008]\n",
      "kin8nm\n",
      "[-1.1178051241792488, -1.1178051241792488, -1.1178051241792488, -1.1178051241792488, -1.1178051241792488]\n",
      "naval\n",
      "[-0.4542847275722604, -0.4542847275722604, -0.4542847275722604, -0.4542847275722604, -0.4542847275722604]\n",
      "power\n",
      "[-0.1403387119695741, -0.1403387119695741, -0.1403387119695741, -0.1403387119695741, -0.1403387119695741]\n",
      "protein\n",
      "[-1.2479220263180402, -1.2479220263180402, -1.2479220263180402, -1.2479220263180402, -1.2479220263180402, -1.2479220263180402, -1.2479220263180402, -1.2479220263180402, -1.2479220263180402]\n",
      "winered\n",
      "[-1.1342291894320327, -1.1342291894320327, -1.1342291894320327, -1.1342291894320327, -1.1342291894320327]\n",
      "winewhite\n",
      "[-1.2145445901714478, -1.2145445901714478, -1.2145445901714478, -1.2145445901714478, -1.2145445901714478]\n",
      "yacht\n",
      "[-0.9872734637693386, -0.9872734637693386, -0.9872734637693386, -0.9872734637693386, -0.9872734637693386]\n"
     ]
    }
   ],
   "source": [
    "db = TinyDB('db.json')\n",
    "\n",
    "model = 'linear' #'variationally_sparse_gp' #'linear'\n",
    "for dataset in regression_datasets:\n",
    "    \n",
    "    print(dataset)\n",
    "    res = db.search((where('model')==model) & (where('dataset')==dataset))\n",
    "    if len(res)>0:\n",
    "        print([r['test_likelihood'] for r in res])"
   ]
  },
  {
   "cell_type": "code",
   "execution_count": null,
   "metadata": {
    "collapsed": true
   },
   "outputs": [],
   "source": []
  },
  {
   "cell_type": "code",
   "execution_count": null,
   "metadata": {
    "collapsed": true
   },
   "outputs": [],
   "source": []
  },
  {
   "cell_type": "code",
   "execution_count": null,
   "metadata": {
    "collapsed": true
   },
   "outputs": [],
   "source": []
  },
  {
   "cell_type": "code",
   "execution_count": null,
   "metadata": {
    "collapsed": true
   },
   "outputs": [],
   "source": []
  },
  {
   "cell_type": "code",
   "execution_count": null,
   "metadata": {
    "collapsed": true
   },
   "outputs": [],
   "source": []
  },
  {
   "cell_type": "code",
   "execution_count": null,
   "metadata": {
    "collapsed": true
   },
   "outputs": [],
   "source": []
  },
  {
   "cell_type": "code",
   "execution_count": null,
   "metadata": {
    "collapsed": true
   },
   "outputs": [],
   "source": []
  },
  {
   "cell_type": "code",
   "execution_count": null,
   "metadata": {
    "collapsed": true
   },
   "outputs": [],
   "source": []
  },
  {
   "cell_type": "code",
   "execution_count": null,
   "metadata": {
    "collapsed": true
   },
   "outputs": [],
   "source": []
  }
 ],
 "metadata": {
  "kernelspec": {
   "display_name": "Python 3",
   "language": "python",
   "name": "python3"
  },
  "language_info": {
   "codemirror_mode": {
    "name": "ipython",
    "version": 3
   },
   "file_extension": ".py",
   "mimetype": "text/x-python",
   "name": "python",
   "nbconvert_exporter": "python",
   "pygments_lexer": "ipython3",
   "version": "3.5.3"
  }
 },
 "nbformat": 4,
 "nbformat_minor": 2
}
