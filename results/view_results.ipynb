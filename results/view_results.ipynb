{
 "cells": [
  {
   "cell_type": "code",
   "execution_count": 7,
   "metadata": {},
   "outputs": [],
   "source": [
    "from tinydb import TinyDB, where\n",
    "from matplotlib import pyplot\n",
    "import numpy as np\n",
    "\n",
    "\n",
    "import sys\n",
    "sys.path.append('../tasks')\n",
    "from data import ALL_REGRESSION_DATATSETS\n",
    "regression_datasets = list(ALL_REGRESSION_DATATSETS.keys())\n",
    "regression_datasets.sort()\n"
   ]
  },
  {
   "cell_type": "code",
   "execution_count": 12,
   "metadata": {},
   "outputs": [
    {
     "name": "stdout",
     "output_type": "stream",
     "text": [
      "boston\n",
      "linear\n",
      "-2.8163330283414925\n",
      "variationally_sparse_gp\n",
      "-2.4316399164475797\n",
      "concrete\n",
      "linear\n",
      "-3.766241163635162\n",
      "variationally_sparse_gp\n",
      "-3.156250023886154\n",
      "energy\n",
      "linear\n",
      "-2.4603259369826724\n",
      "variationally_sparse_gp\n",
      "-1.219948180851491\n",
      "kin8nm\n",
      "linear\n",
      "0.17826408092955348\n",
      "variationally_sparse_gp\n",
      "0.6912122215921234\n",
      "naval\n",
      "linear\n",
      "3.7576732349014508\n",
      "variationally_sparse_gp\n",
      "4.898386808310775\n",
      "power\n",
      "linear\n",
      "-2.9698136257286225\n",
      "variationally_sparse_gp\n",
      "-2.85672579649667\n",
      "protein\n",
      "linear\n",
      "-3.05919744433854\n",
      "variationally_sparse_gp\n",
      "-3.2685777933979563\n",
      "winered\n",
      "linear\n",
      "-0.9609073783315426\n",
      "variationally_sparse_gp\n",
      "-0.9047423749046133\n",
      "winewhite\n",
      "linear\n",
      "-1.1061159679233454\n",
      "variationally_sparse_gp\n",
      "-1.0264916191284774\n",
      "yacht\n",
      "linear\n",
      "-3.6567161404686135\n",
      "variationally_sparse_gp\n",
      "-0.7853658696092044\n"
     ]
    }
   ],
   "source": [
    "db = TinyDB('db.json')\n",
    "\n",
    "for dataset in regression_datasets:\n",
    "    print(dataset)\n",
    "\n",
    "    for model in ['linear', 'variationally_sparse_gp']:\n",
    "        res = db.search((where('model')==model) & (where('dataset')==dataset))\n",
    "        print(model)\n",
    "        if len(res)>0:\n",
    "            print(np.average([r['test_loglikelihood_unnormalized'] for r in res]))"
   ]
  },
  {
   "cell_type": "code",
   "execution_count": null,
   "metadata": {},
   "outputs": [],
   "source": []
  },
  {
   "cell_type": "code",
   "execution_count": null,
   "metadata": {
    "collapsed": true
   },
   "outputs": [],
   "source": []
  },
  {
   "cell_type": "code",
   "execution_count": null,
   "metadata": {
    "collapsed": true
   },
   "outputs": [],
   "source": []
  },
  {
   "cell_type": "code",
   "execution_count": null,
   "metadata": {
    "collapsed": true
   },
   "outputs": [],
   "source": []
  },
  {
   "cell_type": "code",
   "execution_count": null,
   "metadata": {
    "collapsed": true
   },
   "outputs": [],
   "source": []
  },
  {
   "cell_type": "code",
   "execution_count": null,
   "metadata": {
    "collapsed": true
   },
   "outputs": [],
   "source": []
  },
  {
   "cell_type": "code",
   "execution_count": null,
   "metadata": {
    "collapsed": true
   },
   "outputs": [],
   "source": []
  },
  {
   "cell_type": "code",
   "execution_count": null,
   "metadata": {
    "collapsed": true
   },
   "outputs": [],
   "source": []
  },
  {
   "cell_type": "code",
   "execution_count": null,
   "metadata": {
    "collapsed": true
   },
   "outputs": [],
   "source": []
  }
 ],
 "metadata": {
  "kernelspec": {
   "display_name": "Python 3",
   "language": "python",
   "name": "python3"
  },
  "language_info": {
   "codemirror_mode": {
    "name": "ipython",
    "version": 3
   },
   "file_extension": ".py",
   "mimetype": "text/x-python",
   "name": "python",
   "nbconvert_exporter": "python",
   "pygments_lexer": "ipython3",
   "version": "3.5.2"
  }
 },
 "nbformat": 4,
 "nbformat_minor": 2
}
